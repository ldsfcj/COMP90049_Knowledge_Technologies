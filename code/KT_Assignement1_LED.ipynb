{
 "cells": [
  {
   "cell_type": "code",
   "execution_count": 93,
   "metadata": {},
   "outputs": [],
   "source": [
    "import numpy as np\n",
    "candidatefile = open(r\"C:\\Unimelb\\Knowledge Technologies\\Assignement 1\\2019S2-COMP90049_proj1-data_windows\\2019S2-COMP90049_proj1-data_windows\\candidates.txt\")\n",
    "dictionalfile = open(r\"C:\\Unimelb\\Knowledge Technologies\\Assignement 1\\2019S2-COMP90049_proj1-data_windows\\2019S2-COMP90049_proj1-data_windows\\dict.txt\")\n",
    "blendsfile = open(r\"C:\\Unimelb\\Knowledge Technologies\\Assignement 1\\2019S2-COMP90049_proj1-data_windows\\2019S2-COMP90049_proj1-data_windows\\blends.txt\")\n",
    "blendwords = [[d1.split()[0],d1.split()[1],d1.split()[2]] for d1 in blendsfile]\n",
    "candidatewords = [d.split()[0] for d in candidatefile]\n",
    "dictionalwords = [dic.split()[0] for dic in dictionalfile]"
   ]
  },
  {
   "cell_type": "code",
   "execution_count": 108,
   "metadata": {},
   "outputs": [],
   "source": [
    "def letter_equal(w,t):\n",
    "    if (w==t):\n",
    "        return 1\n",
    "    else:\n",
    "        return -1\n",
    "    \n",
    "def Local_Edit_Distance_suffix(word,dic,prefix_len):\n",
    "    suffix_list=[]\n",
    "    count = 0\n",
    "    lf = len(word)\n",
    "    for token in dic:\n",
    "        lt = len(token)\n",
    "        A = np.zeros((lt+1, lf+1), dtype=np.int)\n",
    "        for j in range(1,lt+1):\n",
    "            for k in range(1,lf+1):\n",
    "                A[j][k]=max(0,A[j][k-1] + (-1),A[j-1][k] + (-1),A[j-1][k-1] + letter_equal(word[k-1],token[j-1]))\n",
    "        count+=1\n",
    "#         print(A,count,word,token,np.max(A))\n",
    "        if (np.max(A) == A[lt-np.max(A)+1][lf-np.max(A)+1] and len(word) == (np.max(A)+prefix_len)):\n",
    "            return True\n",
    "    return False\n",
    "def Local_Edit_Distance_predict(word,dic):\n",
    "    prefix_list=[]\n",
    "    count = 0\n",
    "    word_predict = False\n",
    "    lf = len(word)\n",
    "    for token in dic:\n",
    "        lt = len(token)\n",
    "        A = np.zeros((lt+1, lf+1), dtype=np.int)\n",
    "        for j in range(1,lt+1):\n",
    "            for k in range(1,lf+1):\n",
    "                A[j][k]=max(0,A[j][k-1] + (-1),A[j-1][k] + (-1),A[j-1][k-1] + letter_equal(word[k-1],token[j-1]))\n",
    "        count+=1\n",
    "#         print(A,count,word,token,np.max(A))\n",
    "        if (np.max(A) == A[np.max(A)][np.max(A)]):\n",
    "            word_predict = Local_Edit_Distance_suffix(word,dic,np.max(A))\n",
    "    return word_predict"
   ]
  },
  {
   "cell_type": "code",
   "execution_count": 110,
   "metadata": {},
   "outputs": [],
   "source": [
    "count = 0\n",
    "for candidate in candidatewords:\n",
    "    if (Local_Edit_Distance_predict(candidate,dictionalwords)):\n",
    "        count+=0\n",
    "        print(candidate,count)"
   ]
  }
 ],
 "metadata": {
  "kernelspec": {
   "display_name": "Python 3",
   "language": "python",
   "name": "python3"
  },
  "language_info": {
   "codemirror_mode": {
    "name": "ipython",
    "version": 3
   },
   "file_extension": ".py",
   "mimetype": "text/x-python",
   "name": "python",
   "nbconvert_exporter": "python",
   "pygments_lexer": "ipython3",
   "version": "3.7.4"
  }
 },
 "nbformat": 4,
 "nbformat_minor": 2
}
